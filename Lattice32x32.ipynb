{
 "cells": [
  {
   "cell_type": "code",
   "execution_count": 1,
   "metadata": {},
   "outputs": [],
   "source": [
    "from __future__ import division\n",
    "from timeit import default_timer as timer\n",
    "from numba import jit\n",
    "import scipy\n",
    "import numpy as np\n",
    "from numpy.random import rand\n",
    "from numpy import math\n",
    "import matplotlib.pyplot as plt\n",
    "\n",
    "# some initial values:\n",
    "beta=0.47"
   ]
  },
  {
   "cell_type": "code",
   "execution_count": 2,
   "metadata": {},
   "outputs": [],
   "source": [
    "def calcMagnetisation(spinconfig):\n",
    "    '''Magnetization of a given configuration'''\n",
    "    magnetisation=np.sum(spinconfig)\n",
    "    \n",
    "    return magnetisation\n",
    "\n",
    "# initial rdm spin configuration:\n",
    "def initialLattice(n):\n",
    "    '''Create a nxn lattice with random spin configuration'''\n",
    "    spinLattice = np.random.choice([1,-1], size=(n,n))\n",
    "    return spinLattice"
   ]
  },
  {
   "cell_type": "code",
   "execution_count": 3,
   "metadata": {},
   "outputs": [],
   "source": [
    "def mcMetroRandom(spinconfig,n , beta):\n",
    "    ''' This is to execute the monte carlo moves using \n",
    "        Metropolis algorithm such that detailed\n",
    "        balance condition is satisified'''\n",
    "    for i in range(n):\n",
    "        for j in range(n):\n",
    "            a=np.random.randint(0,n) # looping over i & j therefore use a & b\n",
    "            b=np.random.randint(0,n)\n",
    "            spinlattice=spinconfig[a,b]   # is initvalue of spinLattice\n",
    "            \n",
    "            # Periodic Boundary Condition\n",
    "            neighbours=spinconfig[(a+1)%n, b] + spinconfig[a, (b+1)%n] + spinconfig[(a-1)%n, b] + spinconfig[a, (b-1)%n]\n",
    "            \n",
    "            # change in energy:\n",
    "            Delta_E=2*spinlattice*neighbours\n",
    "            \n",
    "            # using acceptance test:\n",
    "            if Delta_E<0:\n",
    "                spinlattice=-1*spinlattice\n",
    "            elif np.random.random()< np.exp(-Delta_E*beta):\n",
    "                spinlattice=-1*spinlattice\n",
    "            \n",
    "            # anyway: satisfing the detailed balance condition, \n",
    "            # ensuring a final equilibrium state. And new config is:\n",
    "            spinconfig[a,b]=spinlattice\n",
    "    return spinconfig"
   ]
  },
  {
   "cell_type": "code",
   "execution_count": 4,
   "metadata": {},
   "outputs": [],
   "source": [
    "n = 32\n",
    "nt = 100         #  number of temperature points\n",
    "eqSteps = 100     #  number of MC sweeps for equilibration (default:1024)\n",
    "mcSteps = 10000       #  number of MC sweeps for calculation (default:1024)"
   ]
  },
  {
   "cell_type": "code",
   "execution_count": 5,
   "metadata": {},
   "outputs": [],
   "source": [
    "T = np.linspace(1.53, 3.28, nt);\n",
    "M=np.zeros(nt)\n",
    "Chi=np.zeros(nt)"
   ]
  },
  {
   "cell_type": "code",
   "execution_count": 6,
   "metadata": {},
   "outputs": [],
   "source": [
    "norm_1 = 1.0/(mcSteps*n*n)\n",
    "norm_2 = 1.0/(mcSteps*mcSteps*n*n)"
   ]
  },
  {
   "cell_type": "code",
   "execution_count": 7,
   "metadata": {},
   "outputs": [],
   "source": [
    "Magnetizations = []"
   ]
  },
  {
   "cell_type": "code",
   "execution_count": 8,
   "metadata": {},
   "outputs": [
    {
     "name": "stderr",
     "output_type": "stream",
     "text": [
      "C:\\Users\\yuli.pari\\anaconda3\\lib\\site-packages\\ipykernel_launcher.py:25: RuntimeWarning: overflow encountered in long_scalars\n"
     ]
    },
    {
     "ename": "KeyboardInterrupt",
     "evalue": "",
     "output_type": "error",
     "traceback": [
      "\u001b[1;31m---------------------------------------------------------------------------\u001b[0m",
      "\u001b[1;31mKeyboardInterrupt\u001b[0m                         Traceback (most recent call last)",
      "\u001b[1;32m<ipython-input-8-7c1f528d327b>\u001b[0m in \u001b[0;36m<module>\u001b[1;34m\u001b[0m\n\u001b[0;32m     16\u001b[0m \u001b[1;33m\u001b[0m\u001b[0m\n\u001b[0;32m     17\u001b[0m     \u001b[1;32mfor\u001b[0m \u001b[0mi\u001b[0m \u001b[1;32min\u001b[0m \u001b[0mrange\u001b[0m\u001b[1;33m(\u001b[0m\u001b[0mmcSteps\u001b[0m\u001b[1;33m)\u001b[0m\u001b[1;33m:\u001b[0m\u001b[1;33m\u001b[0m\u001b[1;33m\u001b[0m\u001b[0m\n\u001b[1;32m---> 18\u001b[1;33m         \u001b[0mmcMetroRandom\u001b[0m\u001b[1;33m(\u001b[0m\u001b[0mspinconfig\u001b[0m\u001b[1;33m,\u001b[0m\u001b[0mn\u001b[0m\u001b[1;33m,\u001b[0m\u001b[0mbeta\u001b[0m\u001b[1;33m)\u001b[0m\u001b[1;33m\u001b[0m\u001b[1;33m\u001b[0m\u001b[0m\n\u001b[0m\u001b[0;32m     19\u001b[0m         \u001b[1;31m#mcmove(config, iT)\u001b[0m\u001b[1;33m\u001b[0m\u001b[1;33m\u001b[0m\u001b[1;33m\u001b[0m\u001b[0m\n\u001b[0;32m     20\u001b[0m         \u001b[1;31m#Ene = calcEnergy(config)     # calculate the energy\u001b[0m\u001b[1;33m\u001b[0m\u001b[1;33m\u001b[0m\u001b[1;33m\u001b[0m\u001b[0m\n",
      "\u001b[1;32m<ipython-input-3-d7160011eab7>\u001b[0m in \u001b[0;36mmcMetroRandom\u001b[1;34m(spinconfig, n, beta)\u001b[0m\n\u001b[0;32m      5\u001b[0m     \u001b[1;32mfor\u001b[0m \u001b[0mi\u001b[0m \u001b[1;32min\u001b[0m \u001b[0mrange\u001b[0m\u001b[1;33m(\u001b[0m\u001b[0mn\u001b[0m\u001b[1;33m)\u001b[0m\u001b[1;33m:\u001b[0m\u001b[1;33m\u001b[0m\u001b[1;33m\u001b[0m\u001b[0m\n\u001b[0;32m      6\u001b[0m         \u001b[1;32mfor\u001b[0m \u001b[0mj\u001b[0m \u001b[1;32min\u001b[0m \u001b[0mrange\u001b[0m\u001b[1;33m(\u001b[0m\u001b[0mn\u001b[0m\u001b[1;33m)\u001b[0m\u001b[1;33m:\u001b[0m\u001b[1;33m\u001b[0m\u001b[1;33m\u001b[0m\u001b[0m\n\u001b[1;32m----> 7\u001b[1;33m             \u001b[0ma\u001b[0m\u001b[1;33m=\u001b[0m\u001b[0mnp\u001b[0m\u001b[1;33m.\u001b[0m\u001b[0mrandom\u001b[0m\u001b[1;33m.\u001b[0m\u001b[0mrandint\u001b[0m\u001b[1;33m(\u001b[0m\u001b[1;36m0\u001b[0m\u001b[1;33m,\u001b[0m\u001b[0mn\u001b[0m\u001b[1;33m)\u001b[0m \u001b[1;31m# looping over i & j therefore use a & b\u001b[0m\u001b[1;33m\u001b[0m\u001b[1;33m\u001b[0m\u001b[0m\n\u001b[0m\u001b[0;32m      8\u001b[0m             \u001b[0mb\u001b[0m\u001b[1;33m=\u001b[0m\u001b[0mnp\u001b[0m\u001b[1;33m.\u001b[0m\u001b[0mrandom\u001b[0m\u001b[1;33m.\u001b[0m\u001b[0mrandint\u001b[0m\u001b[1;33m(\u001b[0m\u001b[1;36m0\u001b[0m\u001b[1;33m,\u001b[0m\u001b[0mn\u001b[0m\u001b[1;33m)\u001b[0m\u001b[1;33m\u001b[0m\u001b[1;33m\u001b[0m\u001b[0m\n\u001b[0;32m      9\u001b[0m             \u001b[0mspinlattice\u001b[0m\u001b[1;33m=\u001b[0m\u001b[0mspinconfig\u001b[0m\u001b[1;33m[\u001b[0m\u001b[0ma\u001b[0m\u001b[1;33m,\u001b[0m\u001b[0mb\u001b[0m\u001b[1;33m]\u001b[0m   \u001b[1;31m# is initvalue of spinLattice\u001b[0m\u001b[1;33m\u001b[0m\u001b[1;33m\u001b[0m\u001b[0m\n",
      "\u001b[1;31mKeyboardInterrupt\u001b[0m: "
     ]
    }
   ],
   "source": [
    "#----------------------------------------------------------------------\n",
    "#  MAIN PART OF THE CODE\n",
    "#----------------------------------------------------------------------\n",
    "# Gittergröße 8:\n",
    "for t in range(nt):\n",
    "    M1=0; M2=0\n",
    "    #E1 = M1 = E2 = M2 = 0\n",
    "    spinconfig=initialLattice(n)\n",
    "    beta = 1./T[t]\n",
    "    #config = initialstate(N)\n",
    "    #iT=1.0/T[tt]; iT2=iT*iT;\n",
    "    \n",
    "    for i in range(eqSteps):         # equilibrate\n",
    "        mcMetroRandom(spinconfig, n, beta)\n",
    "        #mcmove(config, iT)           # Monte Carlo moves\n",
    "\n",
    "    for i in range(mcSteps):\n",
    "        mcMetroRandom(spinconfig,n,beta)\n",
    "        #mcmove(config, iT)           \n",
    "        #Ene = calcEnergy(config)     # calculate the energy\n",
    "        Mag=calcMagnetisation(spinconfig)\n",
    "        #Mag = calcMag(config)        # calculate the magnetisation\n",
    "        \n",
    "        M1 += Mag\n",
    "        M2 += Mag*Mag\n",
    "        \n",
    "    # appending the values (before that i only have one value, but i need like )\n",
    "    M[t]=norm_1*M1\n",
    "    Chi[t]=(norm_1*M2 - norm_2*M1*M1)*beta"
   ]
  },
  {
   "cell_type": "code",
   "execution_count": null,
   "metadata": {},
   "outputs": [],
   "source": []
  }
 ],
 "metadata": {
  "kernelspec": {
   "display_name": "Python 3",
   "language": "python",
   "name": "python3"
  },
  "language_info": {
   "codemirror_mode": {
    "name": "ipython",
    "version": 3
   },
   "file_extension": ".py",
   "mimetype": "text/x-python",
   "name": "python",
   "nbconvert_exporter": "python",
   "pygments_lexer": "ipython3",
   "version": "3.7.6"
  }
 },
 "nbformat": 4,
 "nbformat_minor": 4
}
