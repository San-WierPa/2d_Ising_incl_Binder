{
 "cells": [
  {
   "cell_type": "code",
   "execution_count": 1,
   "metadata": {},
   "outputs": [],
   "source": [
    "from __future__ import division\n",
    "from timeit import default_timer as timer\n",
    "from numba import jit\n",
    "import scipy\n",
    "import numpy as np\n",
    "from numpy.random import rand\n",
    "from numpy import math\n",
    "import matplotlib.pyplot as plt\n",
    "\n",
    "# some initial values:\n",
    "beta=0.47"
   ]
  },
  {
   "cell_type": "code",
   "execution_count": 2,
   "metadata": {},
   "outputs": [],
   "source": [
    "def calcMagnetisation(spinconfig):\n",
    "    '''Magnetization of a given configuration'''\n",
    "    magnetisation=np.sum(spinconfig)\n",
    "    \n",
    "    return magnetisation\n",
    "\n",
    "# initial rdm spin configuration:\n",
    "def initialLattice(n):\n",
    "    '''Create a nxn lattice with random spin configuration'''\n",
    "    spinLattice = np.random.choice([1,-1], size=(n,n))\n",
    "    return spinLattice"
   ]
  },
  {
   "cell_type": "code",
   "execution_count": 3,
   "metadata": {},
   "outputs": [],
   "source": [
    "def mcMetroRandom(spinconfig,n , beta):\n",
    "    ''' This is to execute the monte carlo moves using \n",
    "        Metropolis algorithm such that detailed\n",
    "        balance condition is satisified'''\n",
    "    for i in range(n):\n",
    "        for j in range(n):\n",
    "            a=np.random.randint(0,n) # looping over i & j therefore use a & b\n",
    "            b=np.random.randint(0,n)\n",
    "            spinlattice=spinconfig[a,b]   # is initvalue of spinLattice\n",
    "            \n",
    "            # Periodic Boundary Condition\n",
    "            neighbours=spinconfig[(a+1)%n, b] + spinconfig[a, (b+1)%n] + spinconfig[(a-1)%n, b] + spinconfig[a, (b-1)%n]\n",
    "            \n",
    "            # change in energy:\n",
    "            Delta_E=2*spinlattice*neighbours\n",
    "            \n",
    "            # using acceptance test:\n",
    "            if Delta_E<0:\n",
    "                spinlattice=-1*spinlattice\n",
    "            elif np.random.random()< np.exp(-Delta_E*beta):\n",
    "                spinlattice=-1*spinlattice\n",
    "            \n",
    "            # anyway: satisfing the detailed balance condition, \n",
    "            # ensuring a final equilibrium state. And new config is:\n",
    "            spinconfig[a,b]=spinlattice\n",
    "    return spinconfig"
   ]
  },
  {
   "cell_type": "code",
   "execution_count": 4,
   "metadata": {},
   "outputs": [],
   "source": [
    "n = 4\n",
    "nt = 100         #  number of temperature points\n",
    "eqSteps = 100     #  number of MC sweeps for equilibration (default:1024)\n",
    "mcSteps = 10000       #  number of MC sweeps for calculation (default:1024)"
   ]
  },
  {
   "cell_type": "code",
   "execution_count": 5,
   "metadata": {},
   "outputs": [],
   "source": [
    "T = np.linspace(1.53, 3.28, nt);\n",
    "M=np.zeros(nt)\n",
    "Chi=np.zeros(nt)"
   ]
  },
  {
   "cell_type": "code",
   "execution_count": 6,
   "metadata": {},
   "outputs": [],
   "source": [
    "norm_1 = 1.0/(mcSteps*n*n)\n",
    "norm_2 = 1.0/(mcSteps*mcSteps*n*n)"
   ]
  },
  {
   "cell_type": "code",
   "execution_count": 7,
   "metadata": {},
   "outputs": [],
   "source": [
    "Magnetizations = []"
   ]
  },
  {
   "cell_type": "code",
   "execution_count": 8,
   "metadata": {},
   "outputs": [],
   "source": [
    "#----------------------------------------------------------------------\n",
    "#  MAIN PART OF THE CODE\n",
    "#----------------------------------------------------------------------\n",
    "# Gittergröße 4:\n",
    "for t in range(nt):\n",
    "    M1=0; M2=0\n",
    "    #E1 = M1 = E2 = M2 = 0\n",
    "    spinconfig=initialLattice(n)\n",
    "    beta = 1./T[t]\n",
    "    #config = initialstate(N)\n",
    "    #iT=1.0/T[tt]; iT2=iT*iT;\n",
    "    \n",
    "    for i in range(eqSteps):         # equilibrate\n",
    "        mcMetroRandom(spinconfig, n, beta)\n",
    "        #mcmove(config, iT)           # Monte Carlo moves\n",
    "\n",
    "    for i in range(mcSteps):\n",
    "        mcMetroRandom(spinconfig,n,beta)\n",
    "        #mcmove(config, iT)           \n",
    "        #Ene = calcEnergy(config)     # calculate the energy\n",
    "        Mag=calcMagnetisation(spinconfig)\n",
    "        #Mag = calcMag(config)        # calculate the magnetisation\n",
    "        \n",
    "        M1 += Mag\n",
    "        M2 += Mag*Mag\n",
    "        \n",
    "    # appending the values (before that i only have one value, but i need like )\n",
    "    M[t]=norm_1*M1\n",
    "    Chi[t]=(norm_1*M2 - norm_2*M1*M1)*beta"
   ]
  },
  {
   "cell_type": "code",
   "execution_count": 13,
   "metadata": {},
   "outputs": [],
   "source": [
    "MagSus4x4 = np.savetxt('MagSus4x4.txt', (M, Chi))"
   ]
  },
  {
   "cell_type": "code",
   "execution_count": 16,
   "metadata": {},
   "outputs": [],
   "source": [
    "data4x4 = np.loadtxt('MagSus4x4.txt')\n",
    "\n",
    "Magnetisation4x4 = data4x4[0]\n",
    "Suszeptibility4x4 = data4x4[1]"
   ]
  },
  {
   "cell_type": "code",
   "execution_count": 20,
   "metadata": {},
   "outputs": [
    {
     "data": {
      "image/png": "[encoded data removed]",
      "text/plain": [
       "<Figure size 1296x720 with 2 Axes>"
      ]
     },
     "metadata": {
      "needs_background": "light"
     },
     "output_type": "display_data"
    }
   ],
   "source": [
    "f = plt.figure(figsize=(18, 10)); # plot the calculated values \n",
    "\n",
    "sp =  f.add_subplot(2, 2, 1 );\n",
    "plt.scatter(T, abs(Magnetisation4x4) , s=50, marker='o', color='RoyalBlue')\n",
    "plt.xlabel(\"Temperature (T)\", fontsize=20); \n",
    "plt.ylabel(\"Magnetization \", fontsize=20);   plt.axis('tight');\n",
    "\n",
    "sp =  f.add_subplot(2, 2, 2 );\n",
    "plt.scatter(T, SusSuszeptibility4x4, s=50, marker='o', color='RoyalBlue')\n",
    "plt.xlabel(\"Temperature (T)\", fontsize=20); \n",
    "plt.ylabel(\"Susceptibility\", fontsize=20);   plt.axis('tight');"
   ]
  }
 ],
 "metadata": {
  "kernelspec": {
   "display_name": "Python 3",
   "language": "python",
   "name": "python3"
  },
  "language_info": {
   "codemirror_mode": {
    "name": "ipython",
    "version": 3
   },
   "file_extension": ".py",
   "mimetype": "text/x-python",
   "name": "python",
   "nbconvert_exporter": "python",
   "pygments_lexer": "ipython3",
   "version": "3.7.6"
  }
 },
 "nbformat": 4,
 "nbformat_minor": 4
}
